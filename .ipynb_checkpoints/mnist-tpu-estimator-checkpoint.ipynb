{
 "cells": [
  {
   "cell_type": "markdown",
   "metadata": {},
   "source": [
    "# MNIST with `TPUEstimator`\n",
    "The purpose of this notebook is to convert the `Estimator` implementation of MNIST MLP in the notebook mnist-estimator.ipynb into an `TPUEstimator` implementation. With this done, we will have completed our ultimate quest to compare the runtime of MNIST on CPUs, GPUs, and TPUs, with the same code and datasets.\n",
    "\n",
    "Most of this code will be ported from the last notebook, mnist-estimator.ipynb. In order to port it, we will make use of [this](https://cloud.google.com/tpu/docs/tutorials/migrating-to-tpuestimator-api) Google tutorial on how to port `Estimator` to `TPUEstimator`."
   ]
  },
  {
   "cell_type": "markdown",
   "metadata": {},
   "source": [
    "## Setup\n",
    "First, we import the required libraries."
   ]
  },
  {
   "cell_type": "code",
   "execution_count": 1,
   "metadata": {},
   "outputs": [],
   "source": [
    "import os\n",
    "import sys\n",
    "import time\n",
    "import tensorflow as tf\n",
    "import numpy as np\n",
    "import time\n",
    "import gc\n",
    "\n",
    "# Disable depreciation warnings and limit verbosity during training\n",
    "try:\n",
    "    from tensorflow.python.util import deprecation\n",
    "    deprecation._PRINT_DEPRECATION_WARNINGS = False\n",
    "except AttributeError:\n",
    "    print(\"Import of warning suppression module failed\")\n",
    "    \n",
    "tf.logging.set_verbosity(0)"
   ]
  },
  {
   "cell_type": "markdown",
   "metadata": {},
   "source": [
    "Now we create some global variables which will define the learning process. They are set to be identical to the corresponding global variables in the `keras` implementation of MNIST in this repository."
   ]
  },
  {
   "cell_type": "code",
   "execution_count": 2,
   "metadata": {},
   "outputs": [],
   "source": [
    "NUM_CLASSES = 10\n",
    "NUM_EPOCHS = 5\n",
    "IMG_EDGE = 28\n",
    "MODEL_DIR = 'gs://harrisgroup-ctpu/jtdinsmo/mnist/output/'\n",
    "DATA_DIR = 'gs://harrisgroup-ctpu/jtdinsmo/mnist/data/'\n",
    "TPU_NAME='jtdinsmo-tpu-2'\n",
    "ZONE_NAME='us-central1-b'\n",
    "PROJECT_NAME = 'harrisgroup-223921'\n",
    "NUM_ITERATIONS = 50 # Number of iterations per TPU training loop\n",
    "TRAIN_STEPS = 100000\n",
    "EVALUATE_STEPS = 1000\n",
    "INFERENCE_TIME_THRESHOLD = 10 # Seconds\n",
    "NUM_SHARDS = 8 # Number of shards (TPU chips).\n",
    "DEBUG = False # Set to True to prevent the TPU cluster from restarting, but this affects\n",
    "    # train time, possibly inference time, and creates unusual errors such as \n",
    "    # UNHEALTHY_TENSORFLOW and sometimes it kills the kernel inexplicably."
   ]
  },
  {
   "cell_type": "markdown",
   "metadata": {},
   "source": [
    "We must download the MNIST dataset. We will download it in its orginal form, fitted neither to MLP format nor CNN format. We will reformat it for each of these implementations later. "
   ]
  },
  {
   "cell_type": "code",
   "execution_count": 3,
   "metadata": {},
   "outputs": [
    {
     "name": "stdout",
     "output_type": "stream",
     "text": [
      "\n",
      "WARNING: The TensorFlow contrib module will not be included in TensorFlow 2.0.\n",
      "For more information, please see:\n",
      "  * https://github.com/tensorflow/community/blob/master/rfcs/20180907-contrib-sunset.md\n",
      "  * https://github.com/tensorflow/addons\n",
      "If you depend on functionality not listed there, please file an issue.\n",
      "\n",
      "Extracting MNIST-data/train-images-idx3-ubyte.gz\n",
      "Extracting MNIST-data/train-labels-idx1-ubyte.gz\n",
      "Extracting MNIST-data/t10k-images-idx3-ubyte.gz\n",
      "Extracting MNIST-data/t10k-labels-idx1-ubyte.gz\n"
     ]
    }
   ],
   "source": [
    "mnist = tf.contrib.learn.datasets.load_dataset(\"mnist\")\n",
    "train_data = mnist.train.images  # Returns an np.array\n",
    "train_labels = np.asarray(mnist.train.labels, dtype=np.int32)\n",
    "eval_data = mnist.test.images  # Returns an np.array\n",
    "eval_labels = np.asarray(mnist.test.labels, dtype=np.int32)"
   ]
  },
  {
   "cell_type": "markdown",
   "metadata": {},
   "source": [
    "We also need a function to describe the behavior of the `TPUEstimator` during evaluation."
   ]
  },
  {
   "cell_type": "code",
   "execution_count": 4,
   "metadata": {},
   "outputs": [],
   "source": [
    "def metric_fn(labels, logits):\n",
    "    accuracy = tf.metrics.accuracy(\n",
    "        labels=labels, predictions=tf.argmax(logits, axis=1))\n",
    "    return {\"accuracy\": accuracy}\n",
    "\n",
    "def eval_input_fn(params):\n",
    "    return (eval_data, eval_labels)\n",
    "    \n",
    "def train_input_fn(params):\n",
    "    batch_size = params[\"batch_size\"]\n",
    "    train_data_dataset = tf.data.Dataset.from_tensor_slices(train_data)\n",
    "    train_labels_dataset = tf.data.Dataset.from_tensor_slices(train_labels)\n",
    "    single_train = tf.data.Dataset.zip((train_data_dataset, train_labels_dataset))\n",
    "    dataset_train = single_train\n",
    "    # Create epochs the dumb way: just keep adding shuffled versions of the same data onto the dataset\n",
    "    for _ in range(NUM_EPOCHS-1):\n",
    "        dataset_train = dataset_train.concatenate(single_train.shuffle(train_data.shape[0]))\n",
    "    return dataset_train.apply(tf.contrib.data.batch_and_drop_remainder(batch_size))\n",
    "\n",
    "def purge_model_files():\n",
    "    '''Used at the beginning of the code that runs MNIST for CNN and MLP implementations.\n",
    "    If one of these two implementations is run after the other, it will throw hard-to-\n",
    "    debug errors about how checkpoint files have been changed. All that is really happening\n",
    "    is the program is trying to load checkpoints made with the previous model.'''\n",
    "    \n",
    "    if os.system(\"gsutil rm -r %s\"%(MODEL_DIR)):\n",
    "        print(\"Model directory could not be purged.\")\n",
    "    else:\n",
    "        print(\"Model directory purged\")"
   ]
  },
  {
   "cell_type": "markdown",
   "metadata": {},
   "source": [
    "## Run\n",
    "Now we will create a superclass &mdash; much like we did in the `keras` implementation of MNIST in this repository &mdash; which contains all of the functions common to both MLP and CNN implementations of MNIST. The methods of this superclass are described as follows:\n",
    "- `_load` perfoms all the implementation-specific functions, such as determining the topology of the neural net, and reshaping the data.\n",
    "- `model_fn` is a required argument of `tf.contrib.tpu.TPUEstimator.__init__` which describes the behavior of the `TPUEstimator`. \n",
    "- `_create` creates the `TPUEstimator`. Sometimes, it throws an `UNHEALTHY_TENSORFLOW` error if several models have already been created on the TPU cluster. In this case, stopping and restarting the cluster will solve the issue. We therefore stop and restart the TPU cluster every time `_create` is called, even when it doesn't throw the `UNHEALTHY_TENSORFLOW` for the sake of parity.\n",
    "- `_train` will train the `TPUEstimator` and return the time per iteration it takes to do so, just as it did in the `keras` implementation of MNIST in this repository.\n",
    "- `_predict` does the same but for inference. It will return the time it takes to do inference on the `TPUEstimator` per inference, where the batch size refers to the number of inferences to do in parallel.\n",
    "- `_clean_up` executes several functions to avoid running out of memory. It may be that not all of the calls made in `_clean_up` have an effect, and thus the function could be trimmed, but debugging memory errors is a huge pain because they take so long to recreate, so I haven't trimmed it.\n",
    "- `_main` is the function that the `tensorflow` app runs, which calls `_train` and `_predict` and gathers all the data into `self.train_times` and `self.inference_times`.\n",
    "- `get_data` is the only \"public\" function &mdash; the only one which is called outside of the class. It calls `_main`."
   ]
  },
  {
   "cell_type": "code",
   "execution_count": 5,
   "metadata": {
    "scrolled": true
   },
   "outputs": [],
   "source": [
    "batch_train_data = []\n",
    "batch_inference_data = []\n",
    "\n",
    "class MNIST:\n",
    "    def __init__(self):\n",
    "        self.learning_rate = None\n",
    "        self.use_tpu = True\n",
    "    \n",
    "    # To be overridden\n",
    "    def _load(self, features):\n",
    "        '''\n",
    "        Returns the model, the new features formatted in the way\n",
    "        MLP or CNN needs them.\n",
    "        '''\n",
    "        return None, None\n",
    "    \n",
    "    # To be overridden\n",
    "    def _load_batch_size_limits(self):\n",
    "        self.start_power = None\n",
    "        self.end_power = None\n",
    "    \n",
    "    def _get_batch_sizes(self):\n",
    "        self._load_batch_size_limits()\n",
    "        self.batch_sizes = []\n",
    "        for i in range(self.start_power, self.end_power):\n",
    "            self.batch_sizes += list(range(8**i, 8**(i+1), 8**i))\n",
    "        self.batch_sizes += [8**self.end_power]\n",
    "        \n",
    "    def model_fn(self, features, labels, mode, params):\n",
    "        del params# Unused\n",
    "        image = features\n",
    "        if isinstance(image, dict):\n",
    "            image = features[\"image\"]\n",
    "        model, image = self._load(image)\n",
    "\n",
    "        if mode == tf.estimator.ModeKeys.PREDICT:\n",
    "            logits = model(image)\n",
    "            predictions = {\n",
    "                'class_ids': tf.argmax(logits, axis=1),\n",
    "                'probabilities': tf.nn.softmax(logits),\n",
    "            }\n",
    "            return tf.contrib.tpu.TPUEstimatorSpec(mode, predictions=predictions)\n",
    "\n",
    "        logits = model(image)\n",
    "        loss = tf.losses.sparse_softmax_cross_entropy(labels=labels, logits=logits)\n",
    "\n",
    "        if mode == tf.estimator.ModeKeys.TRAIN:\n",
    "            learning_rate = tf.train.exponential_decay(\n",
    "                self.learning_rate,\n",
    "                tf.train.get_global_step(),\n",
    "                decay_steps=100000,\n",
    "                decay_rate=0.96)\n",
    "            optimizer = tf.train.GradientDescentOptimizer(learning_rate=learning_rate)\n",
    "            if self.use_tpu:\n",
    "                optimizer = tf.contrib.tpu.CrossShardOptimizer(optimizer)\n",
    "            return tf.contrib.tpu.TPUEstimatorSpec(\n",
    "                mode=mode,\n",
    "                loss=loss,\n",
    "                train_op=optimizer.minimize(loss, tf.train.get_global_step()))\n",
    "\n",
    "        if mode == tf.estimator.ModeKeys.EVAL:\n",
    "            return tf.contrib.tpu.TPUEstimatorSpec(\n",
    "                mode=mode, loss=loss, eval_metrics=(metric_fn, [labels, logits]))\n",
    "    \n",
    "    def _create(self, batch_size):\n",
    "        # Restart the TPU cluster to avoid UNHEALTHY_TENSORFLOW\n",
    "        if not DEBUG:# Don't restart on the first run\n",
    "            print(\"Restarting TPU cluster, \", end='')\n",
    "            \n",
    "            os.system(\"echo; echo; free -m; echo; echo\")# Print some memory stats\n",
    "            \n",
    "            os.system(\"gcloud compute tpus stop jtdinsmo-tpu-2 --zone us-central1-b\")\n",
    "            os.system(\"gcloud compute tpus start jtdinsmo-tpu-2 --zone us-central1-b\")\n",
    "            time.sleep(15)\n",
    "                # Pause for a bit to allow the TPU clusters to finish running \n",
    "                # startup scripts if there are any.\n",
    "            print(\"TPU cluster restarted\")\n",
    "\n",
    "        tpu_cluster_resolver = tf.contrib.cluster_resolver.TPUClusterResolver(\n",
    "            TPU_NAME,\n",
    "            zone=ZONE_NAME,\n",
    "            project=PROJECT_NAME)\n",
    "\n",
    "        run_config = tf.contrib.tpu.RunConfig(\n",
    "            cluster=tpu_cluster_resolver,\n",
    "            model_dir=MODEL_DIR,\n",
    "            session_config=tf.ConfigProto(\n",
    "            allow_soft_placement=True, log_device_placement=True),\n",
    "            tpu_config=tf.contrib.tpu.TPUConfig(NUM_ITERATIONS, NUM_SHARDS),)\n",
    "        \n",
    "        self.estimator = tf.contrib.tpu.TPUEstimator(\n",
    "            model_fn=self.model_fn,\n",
    "            use_tpu=self.use_tpu,\n",
    "            train_batch_size=batch_size,\n",
    "            eval_batch_size=batch_size,\n",
    "            predict_batch_size=batch_size,\n",
    "            params={\"data_dir\": DATA_DIR},\n",
    "            config=run_config)\n",
    "\n",
    "    def _train(self, batch_size):\n",
    "        print(\"Training\")\n",
    "        evaluate_steps = train_data.shape[0] // batch_size\n",
    "        train_steps = NUM_EPOCHS * evaluate_steps\n",
    "        start_time = time.time()\n",
    "        try:\n",
    "            self.estimator.train(input_fn=train_input_fn, steps=train_steps)\n",
    "        except tf.errors.OutOfRangeError:\n",
    "            pass\n",
    "        end_time = time.time()\n",
    "        \n",
    "        metrics = self.estimator.evaluate(input_fn=eval_input_fn, steps=evaluate_steps)\n",
    "        print('Accuracy:', metrics['accuracy'], '\\tLoss:', metrics['loss'],\n",
    "              '\\tTime:', end_time - start_time, 's')\n",
    "        \n",
    "        train_time = (end_time - start_time) / (NUM_EPOCHS * train_data.shape[0])\n",
    "        return train_time\n",
    "    \n",
    "    def _predict(self, batch_size):\n",
    "        inference_time_bare = 0\n",
    "        inference_time_array = 0\n",
    "        inference_num = 0\n",
    "        start_inference = time.time()\n",
    "        while True:\n",
    "            random_dataset = np.random.rand(train_data.shape[0], IMG_EDGE**2).astype('float32')\n",
    "            def predict_input_fn(params):\n",
    "                batch_size = params[\"batch_size\"]\n",
    "                dataset_predict = tf.data.Dataset.from_tensor_slices(random_dataset)\n",
    "                return dataset_predict.apply(tf.contrib.data.batch_and_drop_remainder(batch_size))\n",
    "\n",
    "            start_time = time.time()\n",
    "            predictions = self.estimator.predict(predict_input_fn)\n",
    "            inference_time_bare += time.time() - start_time\n",
    "            \n",
    "            labels = []\n",
    "            for pred_dict in predictions:\n",
    "                labels.append(pred_dict['class_ids'])\n",
    "                #probability = pred_dict['probabilities'][class_id]\n",
    "            labels = np.array(labels)\n",
    "            end_time = time.time()\n",
    "            inference_time_array += end_time - start_time\n",
    "            inference_num += 1\n",
    "            if end_time - start_inference > INFERENCE_TIME_THRESHOLD:\n",
    "                # Do as many inferences as possible in INFERENCE_TIME_THRESHOLD seconds\n",
    "                break\n",
    "        return inference_time_bare / (train_data.shape[0] * inference_num), \\\n",
    "               inference_time_array / (train_data.shape[0] * inference_num), inference_num\n",
    "    \n",
    "    def _clean_up(self):\n",
    "        tf.reset_default_graph()\n",
    "        gc.collect()\n",
    "    \n",
    "    def _main(self, _):\n",
    "        self.train_times = []\n",
    "        self.inference_times_bare = []\n",
    "        self.inference_times_array = []\n",
    "        self._get_batch_sizes()\n",
    "        for batch_size in self.batch_sizes:\n",
    "            self._create(batch_size)\n",
    "                            \n",
    "            train_time = self._train(batch_size)\n",
    "                \n",
    "            inference_time_bare, inference_time_array, inference_num = self._predict(batch_size)\n",
    "            print('\\nBatch size:', batch_size, '\\tTrain time:', train_time)\n",
    "            print('Inference generator time', inference_time_bare, 's\\tArray time', inference_time_array, 's (%s)'%inference_num)\n",
    "            print('+'*120)\n",
    "            self.train_times.append(train_time)\n",
    "            self.inference_times_bare.append(inference_time_bare)\n",
    "            self.inference_times_array.append(inference_time_array)\n",
    "            \n",
    "            self._clean_up()\n",
    "            \n",
    "    def get_data(self):\n",
    "        try:\n",
    "            tf.app.run(self._main)\n",
    "        except SystemExit:\n",
    "            # Prevent the program from exiting when done\n",
    "            pass"
   ]
  },
  {
   "cell_type": "markdown",
   "metadata": {},
   "source": [
    "With the superclass defined, we must now implement it for MLP and CNN versions of MNIST. For each, we define a class which contains the topology of the MNIST neural net (e.g., `ModelMLP`), and then we implement a subclass of the class `MNIST` we just defined which returns it (e.g., `MNIST_MLP`)."
   ]
  },
  {
   "cell_type": "code",
   "execution_count": 6,
   "metadata": {},
   "outputs": [],
   "source": [
    "class ModelMLP(object):\n",
    "    def __call__(self, inputs):\n",
    "        net = tf.layers.dense(inputs, 512, activation=tf.nn.relu, name='dense1')\n",
    "        net = tf.layers.dropout(net, rate=0.2, name='drop1')\n",
    "        net = tf.layers.dense(net, 512, activation=tf.nn.relu, name='dense2')\n",
    "        net = tf.layers.dropout(net, rate=0.2, name='drop2')\n",
    "        net = tf.layers.dense(net, NUM_CLASSES, activation=tf.nn.softmax, name='dense3')\n",
    "        return net\n",
    "    \n",
    "class MNIST_MLP(MNIST):\n",
    "    def _load(self, features):\n",
    "        images = tf.reshape(features, [-1, IMG_EDGE**2])\n",
    "        self.learning_rate = 0.001# Learning rate from keras.optimizers.RMSprop\n",
    "        return ModelMLP(), images\n",
    "    def _load_batch_size_limits(self):\n",
    "        self.start_power = 1\n",
    "        self.end_power = 4"
   ]
  },
  {
   "cell_type": "markdown",
   "metadata": {},
   "source": [
    "With the subclasses implemented, all we need to do is instantiate them and call `get_data` for both. This will train all the models and run all the inferences for all the batch sizes we need, with all possible combinations of machine type (CPU or GPU) and MNIST implementation (MLP or CNN)."
   ]
  },
  {
   "cell_type": "code",
   "execution_count": 7,
   "metadata": {
    "scrolled": true
   },
   "outputs": [
    {
     "name": "stdout",
     "output_type": "stream",
     "text": [
      "Model directory purged\n",
      "MNIST MLP\n",
      "\n",
      "++++++++++++++++++++++++++++++++++++++++++++++++++++++++++++++++++++++++++++++++++++++++++++++++++++++++++++++++++++++++\n",
      "Restarting TPU cluster, TPU cluster restarted\n",
      "Training\n",
      "Accuracy: 0.7496 \tLoss: 1.772153 \tTime: 118.82840275764465 s\n",
      "\n",
      "Batch size: 8 \tTrain time: 0.00043210328275507145\n",
      "Inference generator time 4.551627419211648e-10 s\tArray time 0.0009785069552334872 s (1)\n",
      "++++++++++++++++++++++++++++++++++++++++++++++++++++++++++++++++++++++++++++++++++++++++++++++++++++++++++++++++++++++++\n",
      "Restarting TPU cluster, TPU cluster restarted\n",
      "Training\n",
      "Accuracy: 0.8842 \tLoss: 1.659322 \tTime: 119.17821264266968 s\n",
      "\n",
      "Batch size: 16 \tTrain time: 0.000433375318700617\n",
      "Inference generator time 5.288557572798296e-10 s\tArray time 0.0006687042583118785 s (1)\n",
      "++++++++++++++++++++++++++++++++++++++++++++++++++++++++++++++++++++++++++++++++++++++++++++++++++++++++++++++++++++++++\n",
      "Restarting TPU cluster, TPU cluster restarted\n",
      "Training\n",
      "Accuracy: 0.9016 \tLoss: 1.6193688 \tTime: 103.09375643730164 s\n",
      "\n",
      "Batch size: 24 \tTrain time: 0.00037488638704473323\n",
      "Inference generator time 5.7220458984375e-10 s\tArray time 0.0005660349585793235 s (1)\n",
      "++++++++++++++++++++++++++++++++++++++++++++++++++++++++++++++++++++++++++++++++++++++++++++++++++++++++++++++++++++++++\n",
      "Restarting TPU cluster, TPU cluster restarted\n",
      "Training\n",
      "Accuracy: 0.9086 \tLoss: 1.6055411 \tTime: 107.39487981796265 s\n",
      "\n",
      "Batch size: 32 \tTrain time: 0.00039052683570168237\n",
      "Inference generator time 4.6383250843394884e-10 s\tArray time 0.0005214942325245251 s (1)\n",
      "++++++++++++++++++++++++++++++++++++++++++++++++++++++++++++++++++++++++++++++++++++++++++++++++++++++++++++++++++++++++\n",
      "Restarting TPU cluster, TPU cluster restarted\n",
      "Training\n",
      "Accuracy: 0.9114 \tLoss: 1.5980535 \tTime: 119.61795258522034 s\n",
      "\n",
      "Batch size: 40 \tTrain time: 0.0004349743730371649\n",
      "Inference generator time 5.115162242542614e-10 s\tArray time 0.0004887855573133989 s (1)\n",
      "++++++++++++++++++++++++++++++++++++++++++++++++++++++++++++++++++++++++++++++++++++++++++++++++++++++++++++++++++++++++\n",
      "Restarting TPU cluster, TPU cluster restarted\n",
      "Training\n",
      "Accuracy: 0.9141 \tLoss: 1.593236 \tTime: 119.53435468673706 s\n",
      "\n",
      "Batch size: 48 \tTrain time: 0.00043467038067904385\n",
      "Inference generator time 4.681673916903409e-10 s\tArray time 0.0004671905387531627 s (1)\n",
      "++++++++++++++++++++++++++++++++++++++++++++++++++++++++++++++++++++++++++++++++++++++++++++++++++++++++++++++++++++++++\n",
      "Restarting TPU cluster, TPU cluster restarted\n",
      "Training\n",
      "Accuracy: 0.9148 \tLoss: 1.5897517 \tTime: 123.15838670730591 s\n",
      "\n",
      "Batch size: 56 \tTrain time: 0.00044784867893565784\n",
      "Inference generator time 6.328929554332386e-10 s\tArray time 0.0004453394152901389 s (1)\n",
      "++++++++++++++++++++++++++++++++++++++++++++++++++++++++++++++++++++++++++++++++++++++++++++++++++++++++++++++++++++++++\n",
      "Restarting TPU cluster, TPU cluster restarted\n",
      "Training\n",
      "Accuracy: 0.9162 \tLoss: 1.5870252 \tTime: 127.99419021606445 s\n",
      "\n",
      "Batch size: 64 \tTrain time: 0.0004654334189675071\n",
      "Inference generator time 5.418604070490057e-10 s\tArray time 0.0004163782900029963 s (1)\n",
      "++++++++++++++++++++++++++++++++++++++++++++++++++++++++++++++++++++++++++++++++++++++++++++++++++++++++++++++++++++++++\n",
      "Restarting TPU cluster, TPU cluster restarted\n",
      "Training\n",
      "Accuracy: 0.9163 \tLoss: 1.585614 \tTime: 134.37401795387268 s\n",
      "\n",
      "Batch size: 128 \tTrain time: 0.000488632792559537\n",
      "Inference generator time 5.67869706587358e-10 s\tArray time 0.0003581941387870095 s (1)\n",
      "++++++++++++++++++++++++++++++++++++++++++++++++++++++++++++++++++++++++++++++++++++++++++++++++++++++++++++++++++++++++\n",
      "Restarting TPU cluster, TPU cluster restarted\n",
      "Training\n",
      "Accuracy: 0.9166 \tLoss: 1.5848393 \tTime: 182.03504371643066 s\n",
      "\n",
      "Batch size: 192 \tTrain time: 0.0006619456135142933\n",
      "Inference generator time 4.508278586647727e-10 s\tArray time 0.000334046121077104 s (1)\n",
      "++++++++++++++++++++++++++++++++++++++++++++++++++++++++++++++++++++++++++++++++++++++++++++++++++++++++++++++++++++++++\n",
      "Restarting TPU cluster, TPU cluster restarted\n",
      "Training\n",
      "Accuracy: 0.917 \tLoss: 1.5841981 \tTime: 143.3536138534546 s\n",
      "\n",
      "Batch size: 256 \tTrain time: 0.0005212858685580167\n",
      "Inference generator time 5.115162242542614e-10 s\tArray time 0.0003263218402862549 s (1)\n",
      "++++++++++++++++++++++++++++++++++++++++++++++++++++++++++++++++++++++++++++++++++++++++++++++++++++++++++++++++++++++++\n",
      "Restarting TPU cluster, TPU cluster restarted\n",
      "Training\n",
      "Accuracy: 0.9173 \tLoss: 1.5837511 \tTime: 168.17307925224304 s\n",
      "\n",
      "Batch size: 320 \tTrain time: 0.0006115384700081565\n",
      "Inference generator time 4.855069247159091e-10 s\tArray time 0.00031132260235873136 s (1)\n",
      "++++++++++++++++++++++++++++++++++++++++++++++++++++++++++++++++++++++++++++++++++++++++++++++++++++++++++++++++++++++++\n",
      "Restarting TPU cluster, TPU cluster restarted\n",
      "Training\n",
      "Accuracy: 0.9175 \tLoss: 1.5833584 \tTime: 147.15791726112366 s\n",
      "\n",
      "Batch size: 384 \tTrain time: 0.0005351196991313587\n",
      "Inference generator time 4.898418079723012e-10 s\tArray time 0.0003029653549194336 s (1)\n",
      "++++++++++++++++++++++++++++++++++++++++++++++++++++++++++++++++++++++++++++++++++++++++++++++++++++++++++++++++++++++++\n",
      "Restarting TPU cluster, TPU cluster restarted\n",
      "Training\n",
      "Accuracy: 0.9179 \tLoss: 1.583084 \tTime: 157.4402048587799 s\n",
      "\n",
      "Batch size: 448 \tTrain time: 0.0005725098358501088\n",
      "Inference generator time 4.855069247159091e-10 s\tArray time 0.0003064347874034535 s (1)\n",
      "++++++++++++++++++++++++++++++++++++++++++++++++++++++++++++++++++++++++++++++++++++++++++++++++++++++++++++++++++++++++\n",
      "Restarting TPU cluster, TPU cluster restarted\n",
      "Training\n",
      "Accuracy: 0.918 \tLoss: 1.5827895 \tTime: 186.70900082588196 s\n",
      "\n",
      "Batch size: 512 \tTrain time: 0.0006789418211850253\n",
      "Inference generator time 5.461952903053977e-10 s\tArray time 0.0003044905575838956 s (1)\n",
      "++++++++++++++++++++++++++++++++++++++++++++++++++++++++++++++++++++++++++++++++++++++++++++++++++++++++++++++++++++++++\n",
      "Restarting TPU cluster, TPU cluster restarted\n",
      "Training\n",
      "Accuracy: 0.9182 \tLoss: 1.5826437 \tTime: 165.2419617176056 s\n",
      "\n",
      "Batch size: 1024 \tTrain time: 0.0006008798607912931\n",
      "Inference generator time 4.2481855912642043e-10 s\tArray time 0.00030319908315485175 s (1)\n",
      "++++++++++++++++++++++++++++++++++++++++++++++++++++++++++++++++++++++++++++++++++++++++++++++++++++++++++++++++++++++++\n",
      "Restarting TPU cluster, TPU cluster restarted\n",
      "Training\n",
      "Accuracy: 0.9183 \tLoss: 1.582565 \tTime: 195.98471856117249 s\n",
      "\n",
      "Batch size: 1536 \tTrain time: 0.000712671703858809\n",
      "Inference generator time 5.028464577414772e-10 s\tArray time 0.0002950518261302601 s (1)\n",
      "++++++++++++++++++++++++++++++++++++++++++++++++++++++++++++++++++++++++++++++++++++++++++++++++++++++++++++++++++++++++\n",
      "Restarting TPU cluster, TPU cluster restarted\n",
      "Training\n",
      "Accuracy: 0.9182 \tLoss: 1.5825094 \tTime: 183.86698698997498 s\n",
      "\n",
      "Batch size: 2048 \tTrain time: 0.0006686072254180909\n",
      "Inference generator time 4.985115744850852e-10 s\tArray time 0.0002890521786429665 s (1)\n",
      "++++++++++++++++++++++++++++++++++++++++++++++++++++++++++++++++++++++++++++++++++++++++++++++++++++++++++++++++++++++++\n",
      "Restarting TPU cluster, TPU cluster restarted\n",
      "Training\n",
      "Accuracy: 0.9182 \tLoss: 1.5824409 \tTime: 206.03471875190735 s\n",
      "\n",
      "Batch size: 2560 \tTrain time: 0.0007492171590978449\n",
      "Inference generator time 4.941766912286931e-10 s\tArray time 0.00029154539108276365 s (1)\n",
      "++++++++++++++++++++++++++++++++++++++++++++++++++++++++++++++++++++++++++++++++++++++++++++++++++++++++++++++++++++++++\n",
      "Restarting TPU cluster, TPU cluster restarted\n",
      "Training\n",
      "Accuracy: 0.9182 \tLoss: 1.5823941 \tTime: 204.47314071655273 s\n",
      "\n",
      "Batch size: 3072 \tTrain time: 0.0007435386935147373\n",
      "Inference generator time 5.245208740234375e-10 s\tArray time 0.00029766227982260966 s (1)\n",
      "++++++++++++++++++++++++++++++++++++++++++++++++++++++++++++++++++++++++++++++++++++++++++++++++++++++++++++++++++++++++\n",
      "Restarting TPU cluster, TPU cluster restarted\n",
      "Training\n",
      "Accuracy: 0.9183 \tLoss: 1.5823504 \tTime: 214.875972032547 s\n",
      "\n",
      "Batch size: 3584 \tTrain time: 0.0007813671710274437\n",
      "Inference generator time 5.028464577414772e-10 s\tArray time 0.0002914592482826926 s (1)\n",
      "++++++++++++++++++++++++++++++++++++++++++++++++++++++++++++++++++++++++++++++++++++++++++++++++++++++++++++++++++++++++\n",
      "Restarting TPU cluster, TPU cluster restarted\n",
      "Training\n",
      "Accuracy: 0.9183 \tLoss: 1.5823175 \tTime: 205.5251326560974 s\n"
     ]
    },
    {
     "name": "stdout",
     "output_type": "stream",
     "text": [
      "\n",
      "Batch size: 4096 \tTrain time: 0.0007473641187494451\n",
      "Inference generator time 5.071813409978693e-10 s\tArray time 0.0002896387750452215 s (1)\n",
      "++++++++++++++++++++++++++++++++++++++++++++++++++++++++++++++++++++++++++++++++++++++++++++++++++++++++++++++++++++++++\n",
      "\n",
      "+++++++++++++++++++++++++++++++++++++++++++++++++++++++++ DONE +++++++++++++++++++++++++++++++++++++++++++++++++++++++++\n"
     ]
    }
   ],
   "source": [
    "purge_model_files()\n",
    "\n",
    "print(\"MNIST MLP\")\n",
    "print()\n",
    "mlp_tpu = MNIST_MLP()\n",
    "\n",
    "print('+'*120)\n",
    "mlp_tpu.get_data()\n",
    "\n",
    "print()\n",
    "print('+'*57, \"DONE\", '+'*57)"
   ]
  },
  {
   "cell_type": "markdown",
   "metadata": {},
   "source": [
    "With MLP done, we will implement a subclass of `MNIST` using a CNN and run it."
   ]
  },
  {
   "cell_type": "code",
   "execution_count": 8,
   "metadata": {},
   "outputs": [],
   "source": [
    "class ModelCNN(object):\n",
    "    def __call__(self, inputs):\n",
    "        net = tf.layers.conv2d(inputs, 32, [5, 5], activation=tf.nn.relu, name='conv1')\n",
    "        net = tf.layers.max_pooling2d(net, [2, 2], 2, name='pool1')\n",
    "        net = tf.layers.conv2d(net, 64, [5, 5], activation=tf.nn.relu, name='conv2')\n",
    "        net = tf.layers.max_pooling2d(net, [2, 2], 2, name='pool2')\n",
    "        net = tf.layers.flatten(net, name='flat')\n",
    "        net = tf.layers.dense(net, NUM_CLASSES, activation=None, name='fc1')\n",
    "        return net\n",
    "    \n",
    "class MNIST_CNN(MNIST):\n",
    "    def _load(self, features):\n",
    "        images = tf.reshape(features, [-1, IMG_EDGE, IMG_EDGE, 1])\n",
    "        self.learning_rate = 1.0# Learning rate from keras.optimizers.Adadelta\n",
    "        return ModelCNN(), images\n",
    "    def _load_batch_size_limits(self):\n",
    "        self.start_power = 1\n",
    "        self.end_power = 2"
   ]
  },
  {
   "cell_type": "code",
   "execution_count": 9,
   "metadata": {
    "scrolled": true
   },
   "outputs": [
    {
     "name": "stdout",
     "output_type": "stream",
     "text": [
      "Model directory purged\n",
      "MNIST CNN\n",
      "\n",
      "++++++++++++++++++++++++++++++++++++++++++++++++++++++++++++++++++++++++++++++++++++++++++++++++++++\n",
      "Restarting TPU cluster, TPU cluster restarted\n",
      "Training\n",
      "Accuracy: 0.1028 \tLoss: 2.3152256 \tTime: 352.2660210132599 s\n",
      "\n",
      "Batch size: 8 \tTrain time: 0.001280967349139127\n",
      "Inference generator time 5.288557572798296e-10 s\tArray time 0.0009754572651603005 s (1)\n",
      "++++++++++++++++++++++++++++++++++++++++++++++++++++++++++++++++++++++++++++++++++++++++++++++++++++++++++++++++++++++++\n",
      "Restarting TPU cluster, TPU cluster restarted\n",
      "Training\n",
      "Accuracy: 0.1032 \tLoss: 2.313959 \tTime: 255.12705063819885 s\n",
      "\n",
      "Batch size: 16 \tTrain time: 0.0009277347295934504\n",
      "Inference generator time 5.071813409978693e-10 s\tArray time 0.0006577627572146329 s (1)\n",
      "++++++++++++++++++++++++++++++++++++++++++++++++++++++++++++++++++++++++++++++++++++++++++++++++++++++++++++++++++++++++\n",
      "Restarting TPU cluster, TPU cluster restarted\n",
      "Training\n",
      "Accuracy: 0.0982 \tLoss: 2.3043504 \tTime: 244.49290680885315 s\n",
      "\n",
      "Batch size: 24 \tTrain time: 0.000889065115668557\n",
      "Inference generator time 4.898418079723012e-10 s\tArray time 0.0005533410462466153 s (1)\n",
      "++++++++++++++++++++++++++++++++++++++++++++++++++++++++++++++++++++++++++++++++++++++++++++++++++++++++++++++++++++++++\n",
      "Restarting TPU cluster, TPU cluster restarted\n",
      "Training\n",
      "Accuracy: 0.1032 \tLoss: 2.3117678 \tTime: 284.4388892650604 s\n",
      "\n",
      "Batch size: 32 \tTrain time: 0.001034323233691129\n",
      "Inference generator time 6.242231889204545e-10 s\tArray time 0.0005018334475430575 s (1)\n",
      "++++++++++++++++++++++++++++++++++++++++++++++++++++++++++++++++++++++++++++++++++++++++++++++++++++++++++++++++++++++++\n",
      "Restarting TPU cluster, TPU cluster restarted\n",
      "Training\n",
      "Accuracy: 0.1135 \tLoss: 2.30005 \tTime: 272.64508628845215 s\n",
      "\n",
      "Batch size: 40 \tTrain time: 0.0009914366774125532\n",
      "Inference generator time 5.331906405362215e-10 s\tArray time 0.0004764014027335427 s (1)\n",
      "++++++++++++++++++++++++++++++++++++++++++++++++++++++++++++++++++++++++++++++++++++++++++++++++++++++++++++++++++++++++\n",
      "Restarting TPU cluster, TPU cluster restarted\n",
      "Training\n",
      "Accuracy: 0.1032 \tLoss: 2.3004603 \tTime: 252.41209721565247 s\n",
      "\n",
      "Batch size: 48 \tTrain time: 0.0009178621716932817\n",
      "Inference generator time 6.372278386896307e-10 s\tArray time 0.00042971223917874426 s (1)\n",
      "++++++++++++++++++++++++++++++++++++++++++++++++++++++++++++++++++++++++++++++++++++++++++++++++++++++++++++++++++++++++\n",
      "Restarting TPU cluster, TPU cluster restarted\n",
      "Training\n",
      "Accuracy: 0.0974 \tLoss: 2.3036005 \tTime: 249.81459593772888 s\n",
      "\n",
      "Batch size: 56 \tTrain time: 0.0009084167125008323\n",
      "Inference generator time 5.635348233309659e-10 s\tArray time 0.000408003044128418 s (1)\n",
      "++++++++++++++++++++++++++++++++++++++++++++++++++++++++++++++++++++++++++++++++++++++++++++++++++++++++++++++++++++++++\n",
      "Restarting TPU cluster, TPU cluster restarted\n",
      "Training\n",
      "Accuracy: 0.1009 \tLoss: 2.3079772 \tTime: 277.50750946998596 s\n",
      "\n",
      "Batch size: 64 \tTrain time: 0.0010091182162544944\n",
      "Inference generator time 5.938790061257102e-10 s\tArray time 0.00039673294587568806 s (1)\n",
      "++++++++++++++++++++++++++++++++++++++++++++++++++++++++++++++++++++++++++++++++++++++++++++++++++++++++++++++++++++++++\n",
      "\n",
      "+++++++++++++++++++++++++++++++++++++++++++++++ DONE +++++++++++++++++++++++++++++++++++++++++++++++\n"
     ]
    }
   ],
   "source": [
    "purge_model_files()\n",
    "\n",
    "print(\"MNIST CNN\")\n",
    "print()\n",
    "cnn_tpu = MNIST_CNN()\n",
    "\n",
    "print('+'*100)\n",
    "cnn_tpu.get_data()\n",
    "\n",
    "print()\n",
    "print('+'*47, \"DONE\", '+'*47)"
   ]
  },
  {
   "cell_type": "markdown",
   "metadata": {},
   "source": [
    "## Graphing Data\n",
    "Now we will graph the data we have collected above. First we import the `matplotlib` libraries."
   ]
  },
  {
   "cell_type": "code",
   "execution_count": 10,
   "metadata": {},
   "outputs": [],
   "source": [
    "import numpy as np\n",
    "import matplotlib.pyplot as plt\n",
    "\n",
    "x_mlp = np.array(mlp_tpu.batch_sizes)\n",
    "x_cnn = np.array(cnn_tpu.batch_sizes)"
   ]
  },
  {
   "cell_type": "markdown",
   "metadata": {},
   "source": [
    "Then we plot the train time and inference times on CPUs and GPUs as a function of batch size. This is train time."
   ]
  },
  {
   "cell_type": "code",
   "execution_count": 42,
   "metadata": {},
   "outputs": [
    {
     "data": {
      "image/png": "[encoded data removed]",
      "text/plain": [
       "<Figure size 432x288 with 1 Axes>"
      ]
     },
     "metadata": {
      "needs_background": "light"
     },
     "output_type": "display_data"
    }
   ],
   "source": [
    "plt.scatter(x_mlp, mlp_tpu.train_times, c='g', alpha = 0.5)\n",
    "plt.scatter(x_cnn, cnn_tpu.train_times, c='m', alpha = 0.5, marker='^')\n",
    "plt.xlabel('Batch size')\n",
    "plt.ylabel('Train time (s)')\n",
    "plt.xscale('log')\n",
    "plt.yscale('log')\n",
    "plt.axis([1, 10000, 0.0002, 0.002])\n",
    "plt.legend(['MLP TPU', 'CNN TPU'])\n",
    "plt.show()"
   ]
  },
  {
   "cell_type": "markdown",
   "metadata": {},
   "source": [
    "This is inference time."
   ]
  },
  {
   "cell_type": "code",
   "execution_count": 46,
   "metadata": {},
   "outputs": [
    {
     "data": {
      "image/png": "[encoded data removed]",
      "text/plain": [
       "<Figure size 432x288 with 1 Axes>"
      ]
     },
     "metadata": {
      "needs_background": "light"
     },
     "output_type": "display_data"
    },
    {
     "data": {
      "image/png": "[encoded data removed]",
      "text/plain": [
       "<Figure size 432x288 with 1 Axes>"
      ]
     },
     "metadata": {
      "needs_background": "light"
     },
     "output_type": "display_data"
    }
   ],
   "source": [
    "plt.scatter(x_mlp, mlp_tpu.inference_times_bare, c='g', alpha = 0.5)\n",
    "plt.scatter(x_cnn, cnn_tpu.inference_times_bare, c='m', alpha = 0.5, marker='^')\n",
    "plt.xlabel('Batch size')\n",
    "plt.ylabel('Inference generator time (s)')\n",
    "plt.xscale('log')\n",
    "plt.yscale('log')\n",
    "plt.axis([1, 10000, 0.0000000002, 0.000000001])\n",
    "plt.legend(['MLP TPU', 'CNN TPU'])\n",
    "plt.show()\n",
    "\n",
    "plt.scatter(x_mlp, mlp_tpu.inference_times_array, c='c', alpha = 0.5, marker='s')\n",
    "plt.scatter(x_cnn, cnn_tpu.inference_times_array, c='r', alpha = 0.5, marker='v')\n",
    "plt.xlabel('Batch size')\n",
    "plt.ylabel('Inference array time (s)')\n",
    "plt.xscale('log')\n",
    "plt.yscale('log')\n",
    "plt.axis([1, 10000, 0.0002, 0.002])\n",
    "plt.legend(['MLP TPU', 'CNN TPU'])\n",
    "plt.show()"
   ]
  },
  {
   "cell_type": "markdown",
   "metadata": {},
   "source": [
    "This concludes our experiment."
   ]
  },
  {
   "cell_type": "code",
   "execution_count": 13,
   "metadata": {},
   "outputs": [
    {
     "data": {
      "text/plain": [
       "0"
      ]
     },
     "execution_count": 13,
     "metadata": {},
     "output_type": "execute_result"
    }
   ],
   "source": [
    "os.system(\"gcloud compute tpus stop jtdinsmo-tpu-2 --zone us-central1-b\")"
   ]
  }
 ],
 "metadata": {
  "kernelspec": {
   "display_name": "Python 3",
   "language": "python",
   "name": "python3"
  },
  "language_info": {
   "codemirror_mode": {
    "name": "ipython",
    "version": 3
   },
   "file_extension": ".py",
   "mimetype": "text/x-python",
   "name": "python",
   "nbconvert_exporter": "python",
   "pygments_lexer": "ipython3",
   "version": "3.5.3"
  }
 },
 "nbformat": 4,
 "nbformat_minor": 2
}
