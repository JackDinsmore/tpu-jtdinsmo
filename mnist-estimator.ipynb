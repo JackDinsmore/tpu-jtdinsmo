{
 "cells": [
  {
   "cell_type": "markdown",
   "metadata": {},
   "source": [
    "# MNIST with `Estimator`\n",
    "The purpose of this notebook is to convert the `keras` implementation of MNIST MLP in the notebook cpu-gpu-mnist into an `Estimator` implementation, which will be faster and will be an important step along the way to implementing MNIST for TPUs.\n",
    "\n",
    "I'm getting a lot of my code from [this](https://towardsdatascience.com/first-contact-with-tensorflow-estimator-69a5e072998d) tutorial on estimators, plus some extra code on inferences from [this](https://medium.com/@vincentteyssier/tensorflow-estimator-tutorial-on-real-life-data-aa0fca773bb) blog."
   ]
  },
  {
   "cell_type": "markdown",
   "metadata": {},
   "source": [
    "## Setup\n",
    "First, we import the required libraries."
   ]
  },
  {
   "cell_type": "code",
   "execution_count": null,
   "metadata": {},
   "outputs": [],
   "source": [
    "import os\n",
    "import sys\n",
    "import time\n",
    "import tensorflow as tf\n",
    "import numpy as np\n",
    "\n",
    "# Disable depreciation warnings and limit verbosity during training\n",
    "try:\n",
    "    import tensorflow.python.util.deprecation as deprecation\n",
    "    deprecation._PRINT_DEPRECATION_WARNINGS = False\n",
    "except ImportError:\n",
    "    print(\"Import failed\")\n",
    "    \n",
    "tf.logging.set_verbosity(0)"
   ]
  },
  {
   "cell_type": "markdown",
   "metadata": {},
   "source": [
    "Now we create some global variables which will define the learning process. They are set to be identical to the corresponding global variables in the `keras` implementation of MNIST in this repository."
   ]
  },
  {
   "cell_type": "code",
   "execution_count": null,
   "metadata": {},
   "outputs": [],
   "source": [
    "NUM_CLASSES = 10\n",
    "NUM_CHANNELS = 1\n",
    "NUM_EPOCHS = 5\n",
    "IMG_EDGE = 28"
   ]
  },
  {
   "cell_type": "markdown",
   "metadata": {},
   "source": [
    "We must download the MNIST dataset. We will download it in its orginal form, fitted neither to MLP format nor CNN format. We will reformat it for each of these implementations later. "
   ]
  },
  {
   "cell_type": "code",
   "execution_count": null,
   "metadata": {},
   "outputs": [],
   "source": [
    "mnist = tf.contrib.learn.datasets.load_dataset(\"mnist\")\n",
    "train_data = mnist.train.images  # Returns a np.array\n",
    "train_labels = np.asarray(mnist.train.labels, dtype=np.int32)\n",
    "eval_data = mnist.test.images  # Returns a np.array\n",
    "eval_labels = np.asarray(mnist.test.labels, dtype=np.int32)\n",
    "print()\n",
    "print(\"Train dataset size:\", train_data.shape[0])\n",
    "print(\"Eval dataset size:\", eval_data.shape[0])"
   ]
  },
  {
   "cell_type": "markdown",
   "metadata": {},
   "source": [
    "We also need a function to describe the behavior of the `Estimator` during evaluation."
   ]
  },
  {
   "cell_type": "code",
   "execution_count": null,
   "metadata": {},
   "outputs": [],
   "source": [
    "eval_input_fn = tf.estimator.inputs.numpy_input_fn(\n",
    "        x=eval_data,\n",
    "        y=eval_labels,\n",
    "        num_epochs=1,\n",
    "        shuffle=False)"
   ]
  },
  {
   "cell_type": "markdown",
   "metadata": {},
   "source": [
    "## Run\n",
    "Now we will create a superclass &mdash; much like we did in the `keras` implementation of MNIST in this repository &mdash; which contains all of the functions common to both MLP and CNN implementations of MNIST. The methods of this superclass are described as follows:\n",
    "- `__init__` simply sets the device to use, either CPU or GPU so that it is consistent throughout the whole process of training and predicting on the `Estimator`.\n",
    "- `_load` perfoms all the implementation-specific functions, such as determining the topology of the neural net, and reshaping the data.\n",
    "- `model_fn` is a required argument of `tf.estimator.Estimator.__init__` which describes the behavior of the `Estimator`. \n",
    "- `_train` will train the `Estimator` and return the time per iteration it takes to do so, just as it did in the `keras` implementation of MNIST in this repository.\n",
    "- `_predict` does the same but for inference. It will return the time it takes to do inference on the `Estimator` per inference, where the batch size refers to the number of inferences to do in parallel.\n",
    "- `_main` is the function that the `tensorflow` app runs, which calls `_train` and `_predict` and gathers all the data into `self.train_times` and `self.inference_times`.\n",
    "- `get_data` is the only \"public\" function &mdash; the only one which is called outside of the class. It calls `_main`."
   ]
  },
  {
   "cell_type": "code",
   "execution_count": null,
   "metadata": {
    "scrolled": true
   },
   "outputs": [],
   "source": [
    "batch_train_data = []\n",
    "batch_inference_data = []\n",
    "\n",
    "class MNIST:\n",
    "    def __init__(self, device):\n",
    "        self.device = device\n",
    "        self.learning_rate = None\n",
    "        self.start_power = 0\n",
    "        self.end_power = 0\n",
    "    \n",
    "    # To be overrided\n",
    "    def _load(self, features):\n",
    "        return None, None\n",
    "    \n",
    "    def _get_batch_sizes(self):\n",
    "        self.batch_sizes = []\n",
    "        for i in range(self.start_power, self.end_power):\n",
    "            self.batch_sizes += list(range(10**i, 10**(i+1), 10**i))\n",
    "        self.batch_sizes += [10**self.end_power]\n",
    "        \n",
    "    def model_fn(self, features, labels, mode):\n",
    "        '''\n",
    "        Arguments:\n",
    "            features: items returned from input_fn\n",
    "            labels: second item returned from input_fn\n",
    "            mode: the mode the estimator is running in (basically training, validation or prediction). Either\n",
    "                - tf.estimator.ModeKeys.TRAIN\n",
    "                - tf.estimator.ModeKeys.EVAL\n",
    "                - tf.estimator.ModeKeys.PREDICT\n",
    "        Returns:\n",
    "            tf.estimator.EstimatorSpec containing\n",
    "                - the train/loss ops for training\n",
    "                - loss and metrics for evaluation\n",
    "                - predictions for inference\n",
    "        '''\n",
    "        with tf.device(self.device):\n",
    "            global_step=tf.train.get_global_step()\n",
    "\n",
    "            model, images = self._load(features)\n",
    "            if model == None:\n",
    "                raise Exception(\"The class MNIST is not meant to be instantiated.\")\n",
    "\n",
    "            logits = model(images)\n",
    "            predicted_logit = tf.argmax(input=logits, axis=1, \n",
    "                                        output_type=tf.int32)\n",
    "            probabilities = tf.nn.softmax(logits)\n",
    "\n",
    "            #PREDICT\n",
    "            predictions = {\n",
    "              \"predicted_logit\": predicted_logit,\n",
    "              \"probabilities\": probabilities\n",
    "            }\n",
    "            if mode == tf.estimator.ModeKeys.PREDICT:\n",
    "                return tf.estimator.EstimatorSpec(mode=mode,  \n",
    "                                                predictions=predictions)\n",
    "            with tf.name_scope('loss'):\n",
    "                cross_entropy = tf.losses.sparse_softmax_cross_entropy(\n",
    "                        labels=labels, logits=logits, scope='loss')\n",
    "                tf.summary.scalar('loss', cross_entropy)\n",
    "            with tf.name_scope('accuracy'):\n",
    "                accuracy = tf.metrics.accuracy(\n",
    "                        labels=labels, predictions=predicted_logit, name='acc')\n",
    "                tf.summary.scalar('accuracy', accuracy[1])\n",
    "                #EVAL\n",
    "                if mode == tf.estimator.ModeKeys.EVAL:\n",
    "                    return tf.estimator.EstimatorSpec(\n",
    "                        mode=mode,\n",
    "                        loss=cross_entropy,\n",
    "                        eval_metric_ops={'accuracy/accuracy': accuracy},\n",
    "                        evaluation_hooks=None)\n",
    "\n",
    "\n",
    "            # Create a SGR optimizer \n",
    "            optimizer = tf.train.GradientDescentOptimizer(learning_rate=self.learning_rate)\n",
    "            train_op = optimizer.minimize( \n",
    "                        cross_entropy,global_step=global_step)\n",
    "\n",
    "            # Create a hook to print acc, loss & global step every 100 iter.   \n",
    "            train_hook_list= []\n",
    "            train_tensors_log = {'accuracy': accuracy[1],\n",
    "                                 'loss': cross_entropy,\n",
    "                                 'global_step': global_step}\n",
    "            train_hook_list.append(tf.train.LoggingTensorHook(\n",
    "                tensors=train_tensors_log, every_n_iter=100))\n",
    "\n",
    "            if mode == tf.estimator.ModeKeys.TRAIN:\n",
    "                return tf.estimator.EstimatorSpec(\n",
    "                  mode=mode,\n",
    "                  loss=cross_entropy,\n",
    "                  train_op=train_op,\n",
    "                  training_hooks=train_hook_list)\n",
    "\n",
    "    def _train(self, batch_size):\n",
    "        # train_input_fn must be redefined for every batch size.\n",
    "        train_input_fn = tf.estimator.inputs.numpy_input_fn(\n",
    "            x=train_data,\n",
    "            y=train_labels,\n",
    "            batch_size=batch_size,\n",
    "            num_epochs=1,\n",
    "            shuffle=True)\n",
    "\n",
    "        start_time = time.time()\n",
    "        for i in range(NUM_EPOCHS):\n",
    "            epoch_start_time = time.time()\n",
    "            print(\"Epoch \" + str(i+1) + '/' + str(NUM_EPOCHS)+': ', end = '')\n",
    "            self.image_classifier.train(input_fn=train_input_fn)\n",
    "            metrics = self.image_classifier.evaluate(input_fn=eval_input_fn)\n",
    "            epoch_end_time = time.time()\n",
    "            print('Accuracy:', metrics['accuracy/accuracy'], '\\tLoss:', metrics['loss'],\n",
    "                  '\\tTime:', epoch_end_time - epoch_start_time, 's')\n",
    "        end_time = time.time()\n",
    "        iterations = NUM_EPOCHS * (train_data.shape[0] / batch_size)\n",
    "        train_time = (end_time - start_time) / iterations\n",
    "        return train_time\n",
    "    \n",
    "    def _predict(self, batch_size):\n",
    "        inference_time = 0\n",
    "        inference_num = 0\n",
    "        start_inference = time.time()\n",
    "        while True:\n",
    "            # Remade every iteration to randomize\n",
    "            predict_data = np.random.rand(batch_size, IMG_EDGE**2).astype('float32')\n",
    "            predict_input_fn = tf.estimator.inputs.numpy_input_fn(\n",
    "                x=predict_data,\n",
    "                y=None,\n",
    "                batch_size=batch_size,\n",
    "                num_epochs=1,\n",
    "                shuffle=True)\n",
    "        \n",
    "            start_time = time.time()\n",
    "            preds = self.image_classifier.predict(predict_input_fn)\n",
    "            for i in range(batch_size):\n",
    "                s = next(preds)\n",
    "            end_time = time.time()\n",
    "            inference_time += end_time - start_time\n",
    "            inference_num += 1\n",
    "            if end_time - start_inference > 5:# Don't let inference take longer than 5 seconds\n",
    "                break\n",
    "        inference_time = inference_time / inference_num / batch_size\n",
    "        return inference_time, inference_num\n",
    "    \n",
    "    def _main(self, _):\n",
    "        self.train_times = []\n",
    "        self.inference_times = []\n",
    "        self._get_batch_sizes()\n",
    "        for batch_size in self.batch_sizes:\n",
    "            self.image_classifier = tf.estimator.Estimator(model_fn=self.model_fn, model_dir=None)\n",
    "                # set model_dir to make model progress permanent\n",
    "            train_time = self._train(batch_size)\n",
    "            inference_time, inference_num = self._predict(batch_size)\n",
    "            print('\\n','Batch size:', batch_size, '\\tTrain time:', train_time, '\\tInference time', inference_time, '(%s)'%inference_num)\n",
    "            print('+'*100)\n",
    "            self.train_times.append(train_time)\n",
    "            self.inference_times.append(inference_time)\n",
    "            \n",
    "            tf.reset_default_graph()# Clean up memory\n",
    "            \n",
    "    def get_data(self):\n",
    "        try:\n",
    "            tf.app.run(self._main)\n",
    "        except SystemExit:\n",
    "            # Prevent the program from exiting when done\n",
    "            pass"
   ]
  },
  {
   "cell_type": "markdown",
   "metadata": {},
   "source": [
    "With the superclass defined, we must now implement it for MLP and CNN versions of MNIST. For each, we define a class which contains the topology of the MNIST neural net (e.g., `ModelMLP`), and then we implement a subclass of the class `MNIST` we just defined which returns it (e.g., `MNIST_MLP`)."
   ]
  },
  {
   "cell_type": "code",
   "execution_count": null,
   "metadata": {},
   "outputs": [],
   "source": [
    "class ModelMLP(object):\n",
    "    def __call__(self, inputs):\n",
    "        net = tf.layers.dense(inputs, 512, activation=tf.nn.relu, name='dense1')\n",
    "        net = tf.layers.dropout(net, rate=0.2, name='drop1')\n",
    "        net = tf.layers.dense(net, 512, activation=tf.nn.relu, name='dense2')\n",
    "        net = tf.layers.dropout(net, rate=0.2, name='drop2')\n",
    "        net = tf.layers.dense(net, NUM_CLASSES, activation=tf.nn.softmax, name='dense3')\n",
    "        return net\n",
    "    \n",
    "class MNIST_MLP(MNIST):\n",
    "    def _load(self, features):\n",
    "        images = tf.reshape(features, [-1, IMG_EDGE**2])\n",
    "        self.learning_rate = 0.001# Learning rate from keras.optimizers.RMSprop\n",
    "        self.start_power = 0\n",
    "        self.end_power = 4\n",
    "        return ModelMLP(), images"
   ]
  },
  {
   "cell_type": "code",
   "execution_count": null,
   "metadata": {},
   "outputs": [],
   "source": [
    "class ModelCNN(object):\n",
    "    def __call__(self, inputs):\n",
    "        net = tf.layers.conv2d(inputs, 32, [5, 5], activation=tf.nn.relu, name='conv1')\n",
    "        net = tf.layers.max_pooling2d(net, [2, 2], 2, name='pool1')\n",
    "        net = tf.layers.conv2d(net, 64, [5, 5], activation=tf.nn.relu, name='conv2')\n",
    "        net = tf.layers.max_pooling2d(net, [2, 2], 2, name='pool2')\n",
    "        net = tf.layers.flatten(net)\n",
    "        net = tf.layers.dense(net, NUM_CLASSES, activation=None, name='fc1')\n",
    "        return net\n",
    "          \n",
    "class MNIST_CNN(MNIST):\n",
    "    def _load(self, features):\n",
    "        images = tf.reshape(features, [-1, IMG_EDGE, IMG_EDGE, NUM_CHANNELS])\n",
    "        self.learning_rate = 1.0# Learning rate from keras.optimizers.Adadelta\n",
    "        self.start_power = 0\n",
    "        self.end_power = 2 # CNN nets are bigger, and for high batch size they run out of memory.\n",
    "        return ModelCNN(), images"
   ]
  },
  {
   "cell_type": "markdown",
   "metadata": {},
   "source": [
    "With the subclasses implemented, all we need to do is instantiate them and call `get_data` for both. This will train all the models and run all the inferences for all the batch sizes we need, with all possible combinations of machine type (CPU or GPU) and MNIST implementation (MLP or CNN)."
   ]
  },
  {
   "cell_type": "code",
   "execution_count": null,
   "metadata": {},
   "outputs": [],
   "source": [
    "print(\"MNIST MLP\")\n",
    "print()\n",
    "mlp_cpu = MNIST_MLP('/cpu:0')\n",
    "mlp_gpu = MNIST_MLP('/gpu:0')\n",
    "\n",
    "print()\n",
    "print(\"TRAIN ON CPUS\")\n",
    "print()\n",
    "print('+'*100)\n",
    "mlp_cpu.get_data()\n",
    " \n",
    "print()\n",
    "print(\"TRAIN ON GPUS\")\n",
    "print()\n",
    "print('+'*100)\n",
    "mlp_gpu.get_data()\n",
    "\n",
    "print()\n",
    "print('+'*47, \"DONE\", '+'*47)"
   ]
  },
  {
   "cell_type": "markdown",
   "metadata": {},
   "source": [
    "As with the `keras` implementaton, we will again back up the data on the MLP network speeds and save it to the disk so that if the CNN training runs out of memory we can recover the MLP data."
   ]
  },
  {
   "cell_type": "code",
   "execution_count": null,
   "metadata": {},
   "outputs": [],
   "source": [
    "backup = open(\"backup.txt\", 'w')\n",
    "\n",
    "assert len(mlp_cpu.batch_sizes) == len(mlp_gpu.batch_sizes) == len(mlp_cpu.train_times) == len(mlp_cpu.inference_times) \\\n",
    "                 == len(mlp_gpu.train_times) == len(mlp_gpu.inference_times)\n",
    "for i in range(len(mlp_cpu.batch_sizes)):\n",
    "    assert mlp_cpu.batch_sizes[i] == mlp_gpu.batch_sizes[i]\n",
    "    backup.write(str(mlp_cpu.batch_sizes[i]) + '|' +\n",
    "                 str(mlp_cpu.train_times[i]) + '|' +\n",
    "                 str(mlp_cpu.inference_times[i]) + '|' +\n",
    "                 str(mlp_gpu.train_times[i]) + '|' +\n",
    "                 str(mlp_gpu.inference_times[i]) + '|' + '\\n')\n",
    "\n",
    "backup.close()"
   ]
  },
  {
   "cell_type": "markdown",
   "metadata": {},
   "source": [
    "Now we can actually run the CNN implementation of MNIST."
   ]
  },
  {
   "cell_type": "code",
   "execution_count": null,
   "metadata": {},
   "outputs": [],
   "source": [
    "print(\"MNIST CNN\")\n",
    "print()\n",
    "cnn_cpu = MNIST_CNN('/cpu:0')\n",
    "cnn_gpu = MNIST_CNN('/gpu:0')\n",
    "\n",
    "print()\n",
    "print(\"TRAIN ON CPUS\")\n",
    "print()\n",
    "print('+'*100)\n",
    "cnn_cpu.get_data()\n",
    " \n",
    "print()\n",
    "print(\"TRAIN ON GPUS\")\n",
    "print()\n",
    "print('+'*100)\n",
    "cnn_gpu.get_data()\n",
    "\n",
    "print()\n",
    "print('+'*47, \"DONE\", '+'*47)"
   ]
  },
  {
   "cell_type": "markdown",
   "metadata": {},
   "source": [
    "## Graphing Data\n",
    "Now we will graph the data we have collected above. First we import the `matplotlib` libraries."
   ]
  },
  {
   "cell_type": "code",
   "execution_count": null,
   "metadata": {},
   "outputs": [],
   "source": [
    "import numpy as np\n",
    "import matplotlib.pyplot as plt\n",
    "\n",
    "x_mlp = np.array(mlp_cpu.batch_sizes)\n",
    "x_cnn = np.array(cnn_cpu.batch_sizes)"
   ]
  },
  {
   "cell_type": "markdown",
   "metadata": {},
   "source": [
    "Then we plot the train time and inference times on CPUs and GPUs as a function of batch size. This is train time."
   ]
  },
  {
   "cell_type": "code",
   "execution_count": null,
   "metadata": {},
   "outputs": [],
   "source": [
    "plt.scatter(x_mlp, mlp_cpu.train_times, c='b', alpha = 0.5)\n",
    "plt.scatter(x_mlp, mlp_gpu.train_times, c='r', alpha = 0.5, marker='s')\n",
    "plt.scatter(x_cnn, cnn_cpu.train_times, c='y', alpha = 0.5, marker='^')\n",
    "plt.scatter(x_cnn, cnn_gpu.train_times, c='m', alpha = 0.5, marker='v')\n",
    "plt.xlabel('Batch size')\n",
    "plt.ylabel('Train time (s)')\n",
    "plt.xscale('log')\n",
    "plt.yscale('log')\n",
    "plt.axis([1, 10000, 0.001, 2])\n",
    "plt.legend(['MLP CPU', 'MLP GPU', 'CNN CPU', 'CNN GPU'])\n",
    "plt.show()"
   ]
  },
  {
   "cell_type": "markdown",
   "metadata": {},
   "source": [
    "This is inference time."
   ]
  },
  {
   "cell_type": "code",
   "execution_count": null,
   "metadata": {},
   "outputs": [],
   "source": [
    "plt.scatter(x_mlp, mlp_cpu.inference_times, c='b', alpha = 0.5)\n",
    "plt.scatter(x_mlp, mlp_gpu.inference_times, c='r', alpha = 0.5, marker='s')\n",
    "plt.scatter(x_cnn, cnn_cpu.inference_times, c='y', alpha = 0.5, marker='^')\n",
    "plt.scatter(x_cnn, cnn_gpu.inference_times, c='m', alpha = 0.5, marker='v')\n",
    "plt.xlabel('Batch size')\n",
    "plt.ylabel('Inference time (s)')\n",
    "plt.xscale('log')\n",
    "plt.yscale('log')\n",
    "plt.axis([1, 10000, 0.0001, 0.1])\n",
    "plt.legend(['MLP CPU', 'MLP GPU', 'CNN CPU', 'CNN GPU'])\n",
    "plt.show()"
   ]
  },
  {
   "cell_type": "markdown",
   "metadata": {},
   "source": [
    "We can also plot the performance gain in using GPUs over CPUs. This is performance gain in train time."
   ]
  },
  {
   "cell_type": "code",
   "execution_count": null,
   "metadata": {},
   "outputs": [],
   "source": [
    "def get_improvement(cpu_times, gpu_times):\n",
    "    gain = []\n",
    "    for i in range(len(cpu_times)):\n",
    "        gain.append(cpu_times[i] / gpu_times[i] * 100)\n",
    "    return np.array(gain)\n",
    "\n",
    "gain_train_mlp = get_improvement(mlp_cpu.train_times, mlp_gpu.train_times)\n",
    "gain_train_cnn = get_improvement(cnn_cpu.train_times, cnn_gpu.train_times)\n",
    "\n",
    "plt.scatter(x_mlp, gain_train_mlp, c='k', alpha = 0.5, marker = 'd')\n",
    "plt.scatter(x_cnn, gain_train_cnn, c='c', alpha = 0.5, marker = '>')\n",
    "plt.xlabel('Batch size')\n",
    "plt.ylabel('Train speed gain by using GPUs (%)')\n",
    "plt.xscale('log')\n",
    "plt.yscale('linear')\n",
    "plt.legend(['MLP', 'CNN'])\n",
    "plt.axhline(100, linestyle='--', linewidth=1, color='k')\n",
    "plt.show()"
   ]
  },
  {
   "cell_type": "markdown",
   "metadata": {},
   "source": [
    "This is the performance gain in inference time."
   ]
  },
  {
   "cell_type": "code",
   "execution_count": null,
   "metadata": {},
   "outputs": [],
   "source": [
    "gain_inference_mlp = get_improvement(mlp_cpu.inference_times, mlp_gpu.inference_times)\n",
    "gain_inference_cnn = get_improvement(cnn_cpu.inference_times, cnn_gpu.inference_times)\n",
    "\n",
    "plt.scatter(x_mlp, gain_inference_mlp, c='k', alpha = 0.5, marker='d')\n",
    "plt.scatter(x_cnn, gain_inference_cnn, c='c', alpha = 0.5, marker='>')\n",
    "plt.xlabel('Batch size')\n",
    "plt.ylabel('Inference speed gain by using GPUs (%)')\n",
    "plt.xscale('log')\n",
    "plt.yscale('linear')\n",
    "plt.legend(['MLP', 'CNN'])\n",
    "plt.axhline(100, linestyle='--', linewidth=1, color='k')\n",
    "plt.show()"
   ]
  },
  {
   "cell_type": "markdown",
   "metadata": {},
   "source": [
    "This concludes the experiment."
   ]
  }
 ],
 "metadata": {
  "kernelspec": {
   "display_name": "Python 3",
   "language": "python",
   "name": "python3"
  },
  "language_info": {
   "codemirror_mode": {
    "name": "ipython",
    "version": 3
   },
   "file_extension": ".py",
   "mimetype": "text/x-python",
   "name": "python",
   "nbconvert_exporter": "python",
   "pygments_lexer": "ipython3",
   "version": "3.7.3"
  }
 },
 "nbformat": 4,
 "nbformat_minor": 2
}
