{
 "cells": [
  {
   "cell_type": "markdown",
   "metadata": {},
   "source": [
    "# MNIST with bare `tensorflow`\n",
    "The purpose of this notebook is to convert the `keras` implementation of MNIST MLP in the notebook cpu-gpu-mnist with a bare `tensorflow` implementation, which will hopefully be faster.\n",
    "\n",
    "I'm getting a lot of my code from [this](https://towardsdatascience.com/first-contact-with-tensorflow-estimator-69a5e072998d) tutorial on estimators, plus some extra code on inferences from [this](https://medium.com/@vincentteyssier/tensorflow-estimator-tutorial-on-real-life-data-aa0fca773bb) blog.\n",
    "\n",
    "## Issues\n",
    "- For some reason, the `keras` implementation of this project can train MNIST to high accuracy (around 95%) with 5 epochs, but this can only do it after 20 epochs. I'm not sure why."
   ]
  },
  {
   "cell_type": "markdown",
   "metadata": {},
   "source": [
    "## Imports and Global Variables\n",
    "First, we import the required libraries."
   ]
  },
  {
   "cell_type": "code",
   "execution_count": 1,
   "metadata": {},
   "outputs": [],
   "source": [
    "import os\n",
    "import sys\n",
    "import time\n",
    "import tensorflow as tf\n",
    "import numpy as np"
   ]
  },
  {
   "cell_type": "markdown",
   "metadata": {},
   "source": [
    "Create some global variables"
   ]
  },
  {
   "cell_type": "code",
   "execution_count": 21,
   "metadata": {},
   "outputs": [],
   "source": [
    "NUM_CLASSES = 10\n",
    "NUM_CHANNELS = 1\n",
    "IMG_SIZE = 28\n",
    "LEARNING_RATE = 0.001 # Learning rate of RMSProp keras optimizer. Original was 0.05.\n",
    "NUM_EPOCHS = 1\n",
    "\n",
    "start_power = 0\n",
    "end_power = 4\n",
    "BATCH_SIZES = []\n",
    "for i in range(start_power, end_power):\n",
    "    BATCH_SIZES += list(range(10**i, 10**(i+1), 10**i))\n",
    "BATCH_SIZES += [10**end_power]\n",
    "BATCH_SIZES = [128]"
   ]
  },
  {
   "cell_type": "markdown",
   "metadata": {},
   "source": [
    "## Define the Model\n",
    "We will define a model class for MNIST just as `keras` does automatically."
   ]
  },
  {
   "cell_type": "code",
   "execution_count": 3,
   "metadata": {},
   "outputs": [],
   "source": [
    "class Model(object):\n",
    "    def __call__(self, inputs):\n",
    "        net = tf.layers.dense(inputs, 512, activation=tf.nn.relu, name='dense1')\n",
    "        net = tf.layers.dropout(net, rate=0.2, name='drop1')\n",
    "        net = tf.layers.dense(net, 512, activation=tf.nn.relu, name='dense2')\n",
    "        net = tf.layers.dropout(net, rate=0.2, name='drop2')\n",
    "        logits = tf.layers.dense(net, NUM_CLASSES, activation=tf.nn.softmax, name='dense3')\n",
    "        return logits"
   ]
  },
  {
   "cell_type": "markdown",
   "metadata": {},
   "source": [
    "We need a function to set the behavior of our `Estimator`:"
   ]
  },
  {
   "cell_type": "code",
   "execution_count": 22,
   "metadata": {},
   "outputs": [],
   "source": [
    "def model_fn(features, labels, mode):\n",
    "    '''\n",
    "    Arguments:\n",
    "        features: items returned from input_fn\n",
    "        labels: second item returned from input_fn\n",
    "        mode: the mode the estimator is running in (basically training, validation or prediction). Either\n",
    "            - tf.estimator.ModeKeys.TRAIN\n",
    "            - tf.estimator.ModeKeys.EVAL\n",
    "            - tf.estimator.ModeKeys.PREDICT\n",
    "    Returns:\n",
    "        tf.estimator.EstimatorSpec containing\n",
    "            - the train/loss ops for training\n",
    "            - loss and metrics for evaluation\n",
    "            - predictions for inference\n",
    "    '''\n",
    "    \n",
    "    model = Model()\n",
    "    global_step=tf.train.get_global_step()\n",
    "    \n",
    "    # CNN:\n",
    "    # images = tf.reshape(features, [-1, _IMG_SIZE, _IMG_SIZE, _NUM_CHANNELS])\n",
    "    \n",
    "    # MLP:\n",
    "    images = tf.reshape(features, [-1, IMG_SIZE * IMG_SIZE])\n",
    "    \n",
    "    \n",
    "    logits = model(images)\n",
    "    predicted_logit = tf.argmax(input=logits, axis=1, \n",
    "                                output_type=tf.int32)\n",
    "    probabilities = tf.nn.softmax(logits)\n",
    "    \n",
    "    #PREDICT\n",
    "    predictions = {\n",
    "      \"predicted_logit\": predicted_logit,\n",
    "      \"probabilities\": probabilities\n",
    "    }\n",
    "    if mode == tf.estimator.ModeKeys.PREDICT:\n",
    "        return tf.estimator.EstimatorSpec(mode=mode,  \n",
    "                                        predictions=predictions)\n",
    "    with tf.name_scope('loss'):\n",
    "        cross_entropy = tf.losses.sparse_softmax_cross_entropy(\n",
    "                labels=labels, logits=logits, scope='loss')\n",
    "        tf.summary.scalar('loss', cross_entropy)\n",
    "    with tf.name_scope('accuracy'):\n",
    "        accuracy = tf.metrics.accuracy(\n",
    "                labels=labels, predictions=predicted_logit, name='acc')\n",
    "        tf.summary.scalar('accuracy', accuracy[1])\n",
    "        #EVAL\n",
    "        if mode == tf.estimator.ModeKeys.EVAL:\n",
    "            return tf.estimator.EstimatorSpec(\n",
    "                mode=mode,\n",
    "                loss=cross_entropy,\n",
    "                eval_metric_ops={'accuracy/accuracy': accuracy},\n",
    "                evaluation_hooks=None)\n",
    "       \n",
    "    \n",
    "    # Create a SGR optimizer \n",
    "    optimizer = tf.train.GradientDescentOptimizer(    \n",
    "                learning_rate=LEARNING_RATE)\n",
    "    train_op = optimizer.minimize( \n",
    "                cross_entropy,global_step=global_step)\n",
    "    \n",
    "    # Create a hook to print acc, loss & global step every 100 iter.   \n",
    "    train_hook_list= []\n",
    "    train_tensors_log = {'accuracy': accuracy[1],\n",
    "                         'loss': cross_entropy,\n",
    "                         'global_step': global_step}\n",
    "    train_hook_list.append(tf.train.LoggingTensorHook(\n",
    "        tensors=train_tensors_log, every_n_iter=100))\n",
    "    \n",
    "    if mode == tf.estimator.ModeKeys.TRAIN:\n",
    "        return tf.estimator.EstimatorSpec(\n",
    "          mode=mode,\n",
    "          loss=cross_entropy,\n",
    "          train_op=train_op,\n",
    "          training_hooks=train_hook_list)\n"
   ]
  },
  {
   "cell_type": "markdown",
   "metadata": {},
   "source": [
    "## Training and Evaluation\n",
    "We will now train and evaluate the model class we created above."
   ]
  },
  {
   "cell_type": "code",
   "execution_count": 5,
   "metadata": {},
   "outputs": [
    {
     "name": "stdout",
     "output_type": "stream",
     "text": [
      "\n",
      "WARNING: The TensorFlow contrib module will not be included in TensorFlow 2.0.\n",
      "For more information, please see:\n",
      "  * https://github.com/tensorflow/community/blob/master/rfcs/20180907-contrib-sunset.md\n",
      "  * https://github.com/tensorflow/addons\n",
      "If you depend on functionality not listed there, please file an issue.\n",
      "\n",
      "WARNING:tensorflow:From <ipython-input-5-ee003874f341>:1: load_dataset (from tensorflow.contrib.learn.python.learn.datasets) is deprecated and will be removed in a future version.\n",
      "Instructions for updating:\n",
      "Please use tf.data.\n",
      "WARNING:tensorflow:From /usr/local/lib/python3.5/dist-packages/tensorflow/contrib/learn/python/learn/datasets/__init__.py:80: load_mnist (from tensorflow.contrib.learn.python.learn.datasets.mnist) is deprecated and will be removed in a future version.\n",
      "Instructions for updating:\n",
      "Please use alternatives such as official/mnist/dataset.py from tensorflow/models.\n",
      "WARNING:tensorflow:From /usr/local/lib/python3.5/dist-packages/tensorflow/contrib/learn/python/learn/datasets/mnist.py:300: read_data_sets (from tensorflow.contrib.learn.python.learn.datasets.mnist) is deprecated and will be removed in a future version.\n",
      "Instructions for updating:\n",
      "Please use alternatives such as official/mnist/dataset.py from tensorflow/models.\n",
      "WARNING:tensorflow:From /usr/local/lib/python3.5/dist-packages/tensorflow/contrib/learn/python/learn/datasets/mnist.py:260: maybe_download (from tensorflow.contrib.learn.python.learn.datasets.base) is deprecated and will be removed in a future version.\n",
      "Instructions for updating:\n",
      "Please write your own downloading logic.\n",
      "WARNING:tensorflow:From /usr/local/lib/python3.5/dist-packages/tensorflow/contrib/learn/python/learn/datasets/mnist.py:262: extract_images (from tensorflow.contrib.learn.python.learn.datasets.mnist) is deprecated and will be removed in a future version.\n",
      "Instructions for updating:\n",
      "Please use tf.data to implement this functionality.\n",
      "Extracting MNIST-data/train-images-idx3-ubyte.gz\n",
      "WARNING:tensorflow:From /usr/local/lib/python3.5/dist-packages/tensorflow/contrib/learn/python/learn/datasets/mnist.py:267: extract_labels (from tensorflow.contrib.learn.python.learn.datasets.mnist) is deprecated and will be removed in a future version.\n",
      "Instructions for updating:\n",
      "Please use tf.data to implement this functionality.\n",
      "Extracting MNIST-data/train-labels-idx1-ubyte.gz\n",
      "Extracting MNIST-data/t10k-images-idx3-ubyte.gz\n",
      "Extracting MNIST-data/t10k-labels-idx1-ubyte.gz\n",
      "WARNING:tensorflow:From /usr/local/lib/python3.5/dist-packages/tensorflow/contrib/learn/python/learn/datasets/mnist.py:290: DataSet.__init__ (from tensorflow.contrib.learn.python.learn.datasets.mnist) is deprecated and will be removed in a future version.\n",
      "Instructions for updating:\n",
      "Please use alternatives such as official/mnist/dataset.py from tensorflow/models.\n",
      "Train size 55000\n",
      "Eval size 10000\n"
     ]
    }
   ],
   "source": [
    "mnist = tf.contrib.learn.datasets.load_dataset(\"mnist\")\n",
    "train_data = mnist.train.images  # Returns a np.array\n",
    "train_labels = np.asarray(mnist.train.labels, dtype=np.int32)\n",
    "eval_data = mnist.test.images  # Returns a np.array\n",
    "eval_labels = np.asarray(mnist.test.labels, dtype=np.int32)\n",
    "\n",
    "print(\"Train size\", train_data.shape[0])\n",
    "print(\"Eval size\", eval_data.shape[0])"
   ]
  },
  {
   "cell_type": "markdown",
   "metadata": {},
   "source": [
    "We need a function to describe the behavior of the model during evaluation."
   ]
  },
  {
   "cell_type": "code",
   "execution_count": 6,
   "metadata": {},
   "outputs": [],
   "source": [
    "eval_input_fn = tf.estimator.inputs.numpy_input_fn(\n",
    "        x=eval_data,\n",
    "        y=eval_labels,\n",
    "        num_epochs=1,\n",
    "        shuffle=False)"
   ]
  },
  {
   "cell_type": "markdown",
   "metadata": {},
   "source": [
    "## Run\n",
    "Now we need to actually call all the functions we have defined above by training and evaluating the mnist model."
   ]
  },
  {
   "cell_type": "code",
   "execution_count": 23,
   "metadata": {
    "scrolled": true
   },
   "outputs": [
    {
     "name": "stdout",
     "output_type": "stream",
     "text": [
      "\n",
      "TRAIN ON CPUS\n",
      "\n",
      "++++++++++++++++++++++++++++++++++++++++++++++++++++++++++++++++++++++++++++++++++++++++++++++++++++\n",
      "WARNING:tensorflow:Using temporary folder as model directory: /tmp/tmpcxy7hw7a\n",
      "Epoch 1/1: Accuracy: 0.1274 \tLoss: 2.3020768 \tTime: 2.0638389587402344 s\n",
      "\n",
      " Batch size: 128 \tTrain time: 0.004804930530894886 \tInference time 0.0013435501605272293\n",
      "++++++++++++++++++++++++++++++++++++++++++++++++++++++++++++++++++++++++++++++++++++++++++++++++++++\n",
      "\n",
      "TRAIN ON GPUS\n",
      "\n",
      "++++++++++++++++++++++++++++++++++++++++++++++++++++++++++++++++++++++++++++++++++++++++++++++++++++\n",
      "WARNING:tensorflow:Using temporary folder as model directory: /tmp/tmpzwyzh8wm\n",
      "Epoch 1/1: Accuracy: 0.1185 \tLoss: 2.3031187 \tTime: 1.9306581020355225 s\n",
      "\n",
      " Batch size: 128 \tTrain time: 0.004494902454723011 \tInference time 0.0014064330607652664\n",
      "++++++++++++++++++++++++++++++++++++++++++++++++++++++++++++++++++++++++++++++++++++++++++++++++++++\n",
      "\n",
      "+++++++++++++++++++++++++++++++++++++++++++++++ DONE +++++++++++++++++++++++++++++++++++++++++++++++\n"
     ]
    }
   ],
   "source": [
    "batch_train_data = []\n",
    "batch_inference_data = []\n",
    "global device\n",
    "\n",
    "def train(_):\n",
    "    with tf.device(device):\n",
    "        image_classifier = tf.estimator.Estimator(model_fn=model_fn, model_dir=None)\n",
    "            # set model_dir to make model progress permanent\n",
    "        _train = []\n",
    "        _inference = []\n",
    "        for batch_size in BATCH_SIZES:\n",
    "            # Train\n",
    "            train_input_fn = tf.estimator.inputs.numpy_input_fn(\n",
    "                x=train_data,\n",
    "                y=train_labels,\n",
    "                batch_size=batch_size,\n",
    "                num_epochs=1,\n",
    "                shuffle=True)\n",
    "\n",
    "            start_time = time.time()\n",
    "            for i in range(NUM_EPOCHS):\n",
    "                epoch_start_time = time.time()\n",
    "                print(\"Epoch \" + str(i+1) + '/' + str(NUM_EPOCHS)+': ', end = '')\n",
    "                image_classifier.train(input_fn=train_input_fn)\n",
    "                metrics = image_classifier.evaluate(input_fn=eval_input_fn)\n",
    "                epoch_end_time = time.time()\n",
    "                print('Accuracy:', metrics['accuracy/accuracy'], '\\tLoss:', metrics['loss'],\n",
    "                      '\\tTime:', epoch_end_time - epoch_start_time, 's')\n",
    "            end_time = time.time()\n",
    "            iterations = NUM_EPOCHS * (train_data.shape[0] / batch_size)\n",
    "            train_time = (end_time - start_time) / iterations\n",
    "\n",
    "            # Predict\n",
    "            predict_data = np.random.rand(batch_size, IMG_SIZE**2).astype('float32')\n",
    "            predict_input_fn = tf.estimator.inputs.numpy_input_fn(\n",
    "                x=predict_data,\n",
    "                y=None,\n",
    "                batch_size=batch_size,\n",
    "                num_epochs=1,\n",
    "                shuffle=True)\n",
    "            start_time = time.time()\n",
    "\n",
    "            INFERENCE_NUM = 1\n",
    "\n",
    "            for i in range(INFERENCE_NUM):\n",
    "                preds = image_classifier.predict(predict_input_fn)\n",
    "                for i in range(batch_size):\n",
    "                    next(preds)\n",
    "            end_time = time.time()\n",
    "            inference_time = (end_time - start_time) / batch_size / INFERENCE_NUM\n",
    "            _train.append(train_time)\n",
    "            _inference.append(inference_time)\n",
    "            print('\\n','Batch size:', batch_size, '\\tTrain time:', train_time, '\\tInference time', inference_time)\n",
    "            print('+'*100)\n",
    "        batch_train_data.append(_train)\n",
    "        batch_inference_data.append(_inference)\n",
    "\n",
    "tf.logging.set_verbosity(0)\n",
    "\n",
    "print()\n",
    "print(\"TRAIN ON CPUS\")\n",
    "print()\n",
    "print('+'*100)\n",
    "device = '/cpu:0'\n",
    "try:\n",
    "    tf.app.run(train)\n",
    "except SystemExit:\n",
    "    pass\n",
    "    \n",
    "print()\n",
    "print(\"TRAIN ON GPUS\")\n",
    "print()\n",
    "print('+'*100)\n",
    "device = '/gpu:0'\n",
    "try:\n",
    "    tf.app.run(train)\n",
    "except SystemExit:\n",
    "    pass\n",
    "\n",
    "print()\n",
    "print('+'*47, \"DONE\", '+'*47)"
   ]
  },
  {
   "cell_type": "markdown",
   "metadata": {},
   "source": [
    "## Graphing Data\n",
    "Now we will graph the data we have collected above. First we import the `matplotlib` libraries"
   ]
  },
  {
   "cell_type": "code",
   "execution_count": 25,
   "metadata": {},
   "outputs": [],
   "source": [
    "import numpy as np\n",
    "import matplotlib.pyplot as plt\n",
    "\n",
    "x = np.array(BATCH_SIZES)"
   ]
  },
  {
   "cell_type": "markdown",
   "metadata": {},
   "source": [
    "Then we plot the train time and inference times on CPUs and GPUs as a function of batch size."
   ]
  },
  {
   "cell_type": "code",
   "execution_count": 26,
   "metadata": {},
   "outputs": [
    {
     "data": {
      "image/png": "[encoded data removed]",
      "text/plain": [
       "<Figure size 432x288 with 1 Axes>"
      ]
     },
     "metadata": {
      "needs_background": "light"
     },
     "output_type": "display_data"
    }
   ],
   "source": [
    "plt.scatter(x, batch_train_data[0], c='b', alpha = 0.5)\n",
    "plt.scatter(x, batch_train_data[1], c='r', alpha = 0.5, marker='s')\n",
    "plt.xlabel('Batch size')\n",
    "plt.ylabel('Train time (s)')\n",
    "plt.xscale('log')\n",
    "plt.yscale('log')\n",
    "plt.axis([1, 10000, 0.001, 1])\n",
    "plt.legend(['MLP CPU', 'MLP GPU', 'CNN CPU', 'CNN GPU'])\n",
    "plt.show()"
   ]
  },
  {
   "cell_type": "code",
   "execution_count": 27,
   "metadata": {},
   "outputs": [
    {
     "data": {
      "image/png": "[encoded data removed]",
      "text/plain": [
       "<Figure size 432x288 with 1 Axes>"
      ]
     },
     "metadata": {
      "needs_background": "light"
     },
     "output_type": "display_data"
    }
   ],
   "source": [
    "plt.scatter(x, batch_inference_data[0], c='b', alpha = 0.5)\n",
    "plt.scatter(x, batch_inference_data[1], c='r', alpha = 0.5, marker='s')\n",
    "plt.xlabel('Batch size')\n",
    "plt.ylabel('Train time (s)')\n",
    "plt.xscale('log')\n",
    "plt.yscale('log')\n",
    "plt.axis([1, 10000, 0.00001, 1])\n",
    "plt.legend(['MLP CPU', 'MLP GPU', 'CNN CPU', 'CNN GPU'])\n",
    "plt.show()"
   ]
  },
  {
   "cell_type": "markdown",
   "metadata": {},
   "source": [
    "We can also plot the performance gain in using GPUs over CPUs."
   ]
  },
  {
   "cell_type": "code",
   "execution_count": 28,
   "metadata": {},
   "outputs": [
    {
     "data": {
      "image/png": "[encoded data removed]",
      "text/plain": [
       "<Figure size 432x288 with 1 Axes>"
      ]
     },
     "metadata": {
      "needs_background": "light"
     },
     "output_type": "display_data"
    }
   ],
   "source": [
    "def get_improvement(cpu_times, gpu_times):\n",
    "    gain = []\n",
    "    for i in range(len(cpu_times)):\n",
    "        gain.append(cpu_times[i] / gpu_times[i] * 100)\n",
    "    return np.array(gain)\n",
    "\n",
    "gain_train = get_improvement(batch_train_data[0], batch_train_data[1])\n",
    "\n",
    "plt.scatter(x, gain_train, c='k', alpha = 0.5, marker = 'd')\n",
    "plt.xlabel('Batch size')\n",
    "plt.ylabel('Train speed gain by using GPUs (%)')\n",
    "plt.xscale('log')\n",
    "plt.yscale('linear')\n",
    "plt.legend(['MLP', 'CNN'])\n",
    "plt.show()"
   ]
  },
  {
   "cell_type": "code",
   "execution_count": 29,
   "metadata": {},
   "outputs": [
    {
     "data": {
      "image/png": "[encoded data removed]",
      "text/plain": [
       "<Figure size 432x288 with 1 Axes>"
      ]
     },
     "metadata": {
      "needs_background": "light"
     },
     "output_type": "display_data"
    }
   ],
   "source": [
    "gain_inference = get_improvement(batch_inference_data[0], batch_inference_data[1])\n",
    "\n",
    "plt.scatter(x, gain_inference, c='k', alpha = 0.5, marker='d')\n",
    "plt.xlabel('Batch size')\n",
    "plt.ylabel('Inference speed gain by using GPUs (%)')\n",
    "plt.xscale('log')\n",
    "plt.yscale('linear')\n",
    "plt.legend(['MLP'])\n",
    "plt.show()"
   ]
  },
  {
   "cell_type": "markdown",
   "metadata": {},
   "source": [
    "This concludes the experiment."
   ]
  }
 ],
 "metadata": {
  "kernelspec": {
   "display_name": "Python 3",
   "language": "python",
   "name": "python3"
  },
  "language_info": {
   "codemirror_mode": {
    "name": "ipython",
    "version": 3
   },
   "file_extension": ".py",
   "mimetype": "text/x-python",
   "name": "python",
   "nbconvert_exporter": "python",
   "pygments_lexer": "ipython3",
   "version": "3.5.2"
  }
 },
 "nbformat": 4,
 "nbformat_minor": 2
}
